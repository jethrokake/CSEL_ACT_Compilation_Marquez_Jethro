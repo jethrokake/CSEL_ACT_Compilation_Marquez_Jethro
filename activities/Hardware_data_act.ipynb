{
  "nbformat": 4,
  "nbformat_minor": 0,
  "metadata": {
    "colab": {
      "provenance": []
    },
    "kernelspec": {
      "name": "python3",
      "display_name": "Python 3"
    },
    "language_info": {
      "name": "python"
    }
  },
  "cells": [
    {
      "cell_type": "code",
      "execution_count": null,
      "metadata": {
        "id": "tQqIWoqCFAzL"
      },
      "outputs": [],
      "source": [
        "import pandas as pd #data manipulation\n",
        "import matplotlib.pyplot as plt\n",
        "import numpy as np\n"
      ]
    },
    {
      "cell_type": "markdown",
      "source": [
        "2. Initial Data Analysis:"
      ],
      "metadata": {
        "id": "ZvqbIhHlHQ9S"
      }
    },
    {
      "cell_type": "code",
      "source": [
        "hardware_data = data.groupby('CATEGORY_NAME')['QUANTITY'].sum()\n",
        "\n",
        "\n",
        "standard_cost_mean = data['STANDARD_COST'].mean()\n",
        "standard_cost_median = data['STANDARD_COST'].median()\n",
        "standard_cost_std = data['STANDARD_COST'].std()\n",
        "print(\"STANDARD COST\")\n",
        "print(\"MEAN = \" , standard_cost_mean)\n",
        "print(\"MEDIAN = \" , standard_cost_median)\n",
        "print(\"SD = \" , standard_cost_std)\n",
        "print(\" \")\n",
        "standard_cost_mean1 = data['LIST_PRICE'].mean()\n",
        "standard_cost_median1 = data['LIST_PRICE'].median()\n",
        "standard_cost_std1 = data['LIST_PRICE'].std()\n",
        "print(\"LIST PRICE\")\n",
        "print(\"MEAN = \" , standard_cost_mean1)\n",
        "print(\"MEDIAN = \" , standard_cost_median1)\n",
        "print(\"SD = \" , standard_cost_std1)\n",
        "print(\" \")\n",
        "standard_cost_mean12 = data['QUANTITY'].mean()\n",
        "standard_cost_median12 = data['QUANTITY'].median()\n",
        "standard_cost_std12 = data['QUANTITY'].std()\n",
        "print(\"QUANTITY\")\n",
        "print(\"MEAN = \" , standard_cost_mean12)\n",
        "print(\"MEDIAN = \" , standard_cost_median12)\n",
        "print(\"SD = \" , standard_cost_std12)"
      ],
      "metadata": {
        "colab": {
          "base_uri": "https://localhost:8080/"
        },
        "id": "eRL_1j0DGW9i",
        "outputId": "86dd9ce0-cc29-4cf9-d26a-40713067c080"
      },
      "execution_count": null,
      "outputs": [
        {
          "output_type": "stream",
          "name": "stdout",
          "text": [
            "STANDARD COST\n",
            "MEAN =  765.520404676259\n",
            "MEDIAN =  582.02\n",
            "SD =  794.2521419227027\n",
            " \n",
            "LIST PRICE\n",
            "MEAN =  950.9933273381293\n",
            "MEDIAN =  744.98\n",
            "SD =  991.0704822414887\n",
            " \n",
            "QUANTITY\n",
            "MEAN =  107.4748201438849\n",
            "MEDIAN =  98.0\n",
            "SD =  68.00841330229383\n"
          ]
        }
      ]
    },
    {
      "cell_type": "markdown",
      "source": [
        "3. Category Analysis:"
      ],
      "metadata": {
        "id": "ES_iS1IMHX6y"
      }
    },
    {
      "cell_type": "code",
      "source": [
        "hardware.plot(kind = 'bar')\n",
        "plt.xlabel('')\n",
        "plt.ylabel('Number of Products')\n",
        "plt.title('Products')\n",
        "plt.xticks(rotation = 40)\n",
        "plt.show"
      ],
      "metadata": {
        "id": "yIAH8ZqjHhvE",
        "colab": {
          "base_uri": "https://localhost:8080/",
          "height": 680
        },
        "outputId": "b6eeeb87-beb4-4abc-9367-ec6b66ff3dd7"
      },
      "execution_count": null,
      "outputs": [
        {
          "output_type": "execute_result",
          "data": {
            "text/plain": [
              "<function matplotlib.pyplot.show(close=None, block=None)>"
            ],
            "text/html": [
              "<div style=\"max-width:800px; border: 1px solid var(--colab-border-color);\"><style>\n",
              "      pre.function-repr-contents {\n",
              "        overflow-x: auto;\n",
              "        padding: 8px 12px;\n",
              "        max-height: 500px;\n",
              "      }\n",
              "\n",
              "      pre.function-repr-contents.function-repr-contents-collapsed {\n",
              "        cursor: pointer;\n",
              "        max-height: 100px;\n",
              "      }\n",
              "    </style>\n",
              "    <pre style=\"white-space: initial; background:\n",
              "         var(--colab-secondary-surface-color); padding: 8px 12px;\n",
              "         border-bottom: 1px solid var(--colab-border-color);\"><b>matplotlib.pyplot.show</b><br/>def show(*args, **kwargs)</pre><pre class=\"function-repr-contents function-repr-contents-collapsed\" style=\"\"><a class=\"filepath\" style=\"display:none\" href=\"#\">/usr/local/lib/python3.10/dist-packages/matplotlib/pyplot.py</a>Display all open figures.\n",
              "\n",
              "Parameters\n",
              "----------\n",
              "block : bool, optional\n",
              "    Whether to wait for all figures to be closed before returning.\n",
              "\n",
              "    If `True` block and run the GUI main loop until all figure windows\n",
              "    are closed.\n",
              "\n",
              "    If `False` ensure that all figure windows are displayed and return\n",
              "    immediately.  In this case, you are responsible for ensuring\n",
              "    that the event loop is running to have responsive figures.\n",
              "\n",
              "    Defaults to True in non-interactive mode and to False in interactive\n",
              "    mode (see `.pyplot.isinteractive`).\n",
              "\n",
              "See Also\n",
              "--------\n",
              "ion : Enable interactive mode, which shows / updates the figure after\n",
              "      every plotting command, so that calling ``show()`` is not necessary.\n",
              "ioff : Disable interactive mode.\n",
              "savefig : Save the figure to an image file instead of showing it on screen.\n",
              "\n",
              "Notes\n",
              "-----\n",
              "**Saving figures to file and showing a window at the same time**\n",
              "\n",
              "If you want an image file as well as a user interface window, use\n",
              "`.pyplot.savefig` before `.pyplot.show`. At the end of (a blocking)\n",
              "``show()`` the figure is closed and thus unregistered from pyplot. Calling\n",
              "`.pyplot.savefig` afterwards would save a new and thus empty figure. This\n",
              "limitation of command order does not apply if the show is non-blocking or\n",
              "if you keep a reference to the figure and use `.Figure.savefig`.\n",
              "\n",
              "**Auto-show in jupyter notebooks**\n",
              "\n",
              "The jupyter backends (activated via ``%matplotlib inline``,\n",
              "``%matplotlib notebook``, or ``%matplotlib widget``), call ``show()`` at\n",
              "the end of every cell by default. Thus, you usually don&#x27;t have to call it\n",
              "explicitly there.</pre>\n",
              "      <script>\n",
              "      if (google.colab.kernel.accessAllowed && google.colab.files && google.colab.files.view) {\n",
              "        for (const element of document.querySelectorAll('.filepath')) {\n",
              "          element.style.display = 'block'\n",
              "          element.onclick = (event) => {\n",
              "            event.preventDefault();\n",
              "            event.stopPropagation();\n",
              "            google.colab.files.view(element.textContent, 401);\n",
              "          };\n",
              "        }\n",
              "      }\n",
              "      for (const element of document.querySelectorAll('.function-repr-contents')) {\n",
              "        element.onclick = (event) => {\n",
              "          event.preventDefault();\n",
              "          event.stopPropagation();\n",
              "          element.classList.toggle('function-repr-contents-collapsed');\n",
              "        };\n",
              "      }\n",
              "      </script>\n",
              "      </div>"
            ]
          },
          "metadata": {},
          "execution_count": 22
        },
        {
          "output_type": "display_data",
          "data": {
            "text/plain": [
              "<Figure size 640x480 with 1 Axes>"
            ],
            "image/png": "[encoded data removed]"
          },
          "metadata": {}
        }
      ]
    },
    {
      "cell_type": "markdown",
      "source": [
        "4. Cost and Price Analysis:"
      ],
      "metadata": {
        "id": "iw2Xmbo0HtZC"
      }
    },
    {
      "cell_type": "code",
      "source": [
        "\n",
        "average_standard_cost = data['STANDARD_COST'].mean()\n",
        "\n",
        "\n",
        "average_list_price = data['LIST_PRICE'].mean()\n",
        "\n",
        "\n",
        "highest_standard_cost_product = data.loc[data['STANDARD_COST'].idxmax(), 'PRODUCT_NAME']\n",
        "\n",
        "\n",
        "highest_list_price_product = data.loc[data['LIST_PRICE'].idxmax(), 'PRODUCT_NAME']\n",
        "\n",
        "# Print the results\n",
        "print(\"Average Standard Cost:\", average_standard_cost)\n",
        "print(\"Average List Price:\", average_list_price)\n",
        "print(\"Product with Highest Standard Cost:\", highest_standard_cost_product)\n",
        "print(\"Product with Highest List Price:\", highest_list_price_product)\n"
      ],
      "metadata": {
        "colab": {
          "base_uri": "https://localhost:8080/"
        },
        "id": "mJhK4FBGH0Ry",
        "outputId": "b2d51097-17d7-413f-e8f6-3fbdb96c23c0"
      },
      "execution_count": null,
      "outputs": [
        {
          "output_type": "stream",
          "name": "stdout",
          "text": [
            "Average Standard Cost: 765.520404676259\n",
            "Average List Price: 950.9933273381293\n",
            "Product with Highest Standard Cost: Intel SSDPECME040T401\n",
            "Product with Highest List Price: Intel SSDPECME040T401\n"
          ]
        }
      ]
    },
    {
      "cell_type": "markdown",
      "source": [
        "5. Location Analysis:"
      ],
      "metadata": {
        "id": "SqtRpOBzivhs"
      }
    },
    {
      "cell_type": "code",
      "source": [
        "# Group the data by location (city or state) and sum the quantities of products in stock\n",
        "location_quantity = data.groupby('STATE')['QUANTITY'].sum()\n",
        "\n",
        "# Identify the location with the highest quantity of products in stock\n",
        "highest_quantity_location = location_quantity.idxmax()\n",
        "\n",
        "# Print the result\n",
        "print(\"Location with the Highest Quantity of Products in Stock:\", highest_quantity_location)\n"
      ],
      "metadata": {
        "colab": {
          "base_uri": "https://localhost:8080/"
        },
        "id": "3Rvxk4tkiw1z",
        "outputId": "20f05647-da93-44a7-c3e1-c3f271176607"
      },
      "execution_count": null,
      "outputs": [
        {
          "output_type": "stream",
          "name": "stdout",
          "text": [
            "Location with the Highest Quantity of Products in Stock: California\n"
          ]
        }
      ]
    },
    {
      "cell_type": "markdown",
      "source": [
        "6. Insights and Reporting:"
      ],
      "metadata": {
        "id": "aWt72ngmp1Oq"
      }
    },
    {
      "cell_type": "code",
      "source": [
        "report = \"\"\"\n",
        "Analysis Report\n",
        "First, I loaded the data by transforming the hardwareStore.csv dataset into a pandas DataFrame. Then, I displayed the statistical dataset by obtaining the mean, median, and standard deviation of numeric columns.\n",
        "Afterward, I created a bar chart to determine the product that has the highest quantity. Following that, I calculated the average standard cost and identified which product has the highest standard cost and highest list price.\n",
        "The final analysis involved determining the state with the highest quantity of products, which is California.\n",
        "\"\"\"\n",
        "\n",
        "print(report)"
      ],
      "metadata": {
        "colab": {
          "base_uri": "https://localhost:8080/"
        },
        "id": "1o7xFgq0p3nq",
        "outputId": "38b3ff7f-52c9-4965-87e7-8c8fd651a7d3"
      },
      "execution_count": null,
      "outputs": [
        {
          "output_type": "stream",
          "name": "stdout",
          "text": [
            "\n",
            "Analysis Report\n",
            "First, I loaded the data by transforming the hardwareStore.csv dataset into a pandas DataFrame. Then, I displayed the statistical dataset by obtaining the mean, median, and standard deviation of numeric columns.\n",
            "Afterward, I created a bar chart to determine the product that has the highest quantity. Following that, I calculated the average standard cost and identified which product has the highest standard cost and highest list price.\n",
            "The final analysis involved determining the state with the highest quantity of products, which is California.\n",
            "\n"
          ]
        }
      ]
    },
    {
      "cell_type": "markdown",
      "source": [
        "7.saving report to a file"
      ],
      "metadata": {
        "id": "uwpw-Idgturw"
      }
    },
    {
      "cell_type": "code",
      "source": [
        "with open ('kake.txt','w') as f:\n",
        "  f.write (report)"
      ],
      "metadata": {
        "id": "blqDW6MctyZi"
      },
      "execution_count": null,
      "outputs": []
    }
  ]
}